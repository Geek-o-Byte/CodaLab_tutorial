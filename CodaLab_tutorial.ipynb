{
  "nbformat": 4,
  "nbformat_minor": 0,
  "metadata": {
    "colab": {
      "name": "CodaLab tutorial",
      "provenance": [],
      "collapsed_sections": []
    },
    "kernelspec": {
      "name": "python3",
      "display_name": "Python 3"
    },
    "language_info": {
      "name": "python"
    }
  },
  "cells": [
    {
      "cell_type": "markdown",
      "metadata": {
        "id": "dOOiLhbMTP26"
      },
      "source": [
        "# 1. Load in your dataset for the datathon\n",
        "(in our case we will just make some fake data)"
      ]
    },
    {
      "cell_type": "code",
      "metadata": {
        "id": "x4HdcyMrRsFW"
      },
      "source": [
        "import numpy as np\n",
        "import pandas as pd\n",
        "import matplotlib.pyplot as plt\n",
        "import seaborn as sns"
      ],
      "execution_count": 1,
      "outputs": []
    },
    {
      "cell_type": "code",
      "metadata": {
        "id": "PjYMO1hfR8DJ",
        "colab": {
          "base_uri": "https://localhost:8080/",
          "height": 224
        },
        "outputId": "31cead9f-e90b-4ad3-d4bf-f730b5591ec2"
      },
      "source": [
        "n_samples = 10000\n",
        "n_predictors = 10\n",
        "predictors = np.random.rand(n_samples,n_predictors)\n",
        "# create a target variable with some noise\n",
        "target = np.sum(predictors*np.random.rand(1, n_predictors), axis=1) + np.random.normal(0, 0.1, (n_samples,))\n",
        "data = np.concatenate((predictors, target.reshape((-1,1))), axis=1)\n",
        "col_names = ['x_'+str(i) for i in range(n_predictors)] + ['target']\n",
        "print(np.shape(data))\n",
        "dataPD = pd.DataFrame(data, columns=col_names)\n",
        "dataPD.head()"
      ],
      "execution_count": 2,
      "outputs": [
        {
          "output_type": "stream",
          "text": [
            "(10000, 11)\n"
          ],
          "name": "stdout"
        },
        {
          "output_type": "execute_result",
          "data": {
            "text/html": [
              "<div>\n",
              "<style scoped>\n",
              "    .dataframe tbody tr th:only-of-type {\n",
              "        vertical-align: middle;\n",
              "    }\n",
              "\n",
              "    .dataframe tbody tr th {\n",
              "        vertical-align: top;\n",
              "    }\n",
              "\n",
              "    .dataframe thead th {\n",
              "        text-align: right;\n",
              "    }\n",
              "</style>\n",
              "<table border=\"1\" class=\"dataframe\">\n",
              "  <thead>\n",
              "    <tr style=\"text-align: right;\">\n",
              "      <th></th>\n",
              "      <th>x_0</th>\n",
              "      <th>x_1</th>\n",
              "      <th>x_2</th>\n",
              "      <th>x_3</th>\n",
              "      <th>x_4</th>\n",
              "      <th>x_5</th>\n",
              "      <th>x_6</th>\n",
              "      <th>x_7</th>\n",
              "      <th>x_8</th>\n",
              "      <th>x_9</th>\n",
              "      <th>target</th>\n",
              "    </tr>\n",
              "  </thead>\n",
              "  <tbody>\n",
              "    <tr>\n",
              "      <th>0</th>\n",
              "      <td>0.943602</td>\n",
              "      <td>0.452393</td>\n",
              "      <td>0.567289</td>\n",
              "      <td>0.329835</td>\n",
              "      <td>0.046681</td>\n",
              "      <td>0.840553</td>\n",
              "      <td>0.552273</td>\n",
              "      <td>0.475104</td>\n",
              "      <td>0.935472</td>\n",
              "      <td>0.501469</td>\n",
              "      <td>2.829199</td>\n",
              "    </tr>\n",
              "    <tr>\n",
              "      <th>1</th>\n",
              "      <td>0.709297</td>\n",
              "      <td>0.026926</td>\n",
              "      <td>0.119769</td>\n",
              "      <td>0.877721</td>\n",
              "      <td>0.613053</td>\n",
              "      <td>0.716205</td>\n",
              "      <td>0.702214</td>\n",
              "      <td>0.946881</td>\n",
              "      <td>0.812271</td>\n",
              "      <td>0.584844</td>\n",
              "      <td>3.321246</td>\n",
              "    </tr>\n",
              "    <tr>\n",
              "      <th>2</th>\n",
              "      <td>0.080944</td>\n",
              "      <td>0.734899</td>\n",
              "      <td>0.851052</td>\n",
              "      <td>0.195543</td>\n",
              "      <td>0.661112</td>\n",
              "      <td>0.829567</td>\n",
              "      <td>0.183250</td>\n",
              "      <td>0.426641</td>\n",
              "      <td>0.876994</td>\n",
              "      <td>0.867576</td>\n",
              "      <td>3.165667</td>\n",
              "    </tr>\n",
              "    <tr>\n",
              "      <th>3</th>\n",
              "      <td>0.148208</td>\n",
              "      <td>0.275667</td>\n",
              "      <td>0.521968</td>\n",
              "      <td>0.681458</td>\n",
              "      <td>0.469958</td>\n",
              "      <td>0.838551</td>\n",
              "      <td>0.355789</td>\n",
              "      <td>0.420015</td>\n",
              "      <td>0.309410</td>\n",
              "      <td>0.713847</td>\n",
              "      <td>2.705832</td>\n",
              "    </tr>\n",
              "    <tr>\n",
              "      <th>4</th>\n",
              "      <td>0.449393</td>\n",
              "      <td>0.363459</td>\n",
              "      <td>0.669108</td>\n",
              "      <td>0.443403</td>\n",
              "      <td>0.499658</td>\n",
              "      <td>0.708315</td>\n",
              "      <td>0.678936</td>\n",
              "      <td>0.267382</td>\n",
              "      <td>0.080361</td>\n",
              "      <td>0.246177</td>\n",
              "      <td>2.297017</td>\n",
              "    </tr>\n",
              "  </tbody>\n",
              "</table>\n",
              "</div>"
            ],
            "text/plain": [
              "        x_0       x_1       x_2  ...       x_8       x_9    target\n",
              "0  0.943602  0.452393  0.567289  ...  0.935472  0.501469  2.829199\n",
              "1  0.709297  0.026926  0.119769  ...  0.812271  0.584844  3.321246\n",
              "2  0.080944  0.734899  0.851052  ...  0.876994  0.867576  3.165667\n",
              "3  0.148208  0.275667  0.521968  ...  0.309410  0.713847  2.705832\n",
              "4  0.449393  0.363459  0.669108  ...  0.080361  0.246177  2.297017\n",
              "\n",
              "[5 rows x 11 columns]"
            ]
          },
          "metadata": {
            "tags": []
          },
          "execution_count": 2
        }
      ]
    },
    {
      "cell_type": "markdown",
      "metadata": {
        "id": "rlXpMf8iWNhQ"
      },
      "source": [
        "# 2. Split into training, validation and testing"
      ]
    },
    {
      "cell_type": "code",
      "metadata": {
        "colab": {
          "base_uri": "https://localhost:8080/"
        },
        "id": "-tQWur8HOilT",
        "outputId": "f6318636-9cd1-4e39-fde8-16cf9bb40656"
      },
      "source": [
        "n_train = int(0.75*n_samples)\n",
        "n_val = int(0.125*n_samples)\n",
        "n_test = n_samples - n_train - n_val\n",
        "print(n_samples)\n",
        "print(n_train)\n",
        "print(n_val)\n",
        "print(n_test)"
      ],
      "execution_count": 3,
      "outputs": [
        {
          "output_type": "stream",
          "text": [
            "10000\n",
            "7500\n",
            "1250\n",
            "1250\n"
          ],
          "name": "stdout"
        }
      ]
    },
    {
      "cell_type": "code",
      "metadata": {
        "colab": {
          "base_uri": "https://localhost:8080/",
          "height": 520
        },
        "id": "-0prCXJMPZHF",
        "outputId": "07296d4f-af3a-4aa8-af9a-ed63faf21bf0"
      },
      "source": [
        "# mix up your data\n",
        "dataPD = dataPD.sample(frac=1).reset_index(drop=True)\n",
        "\n",
        "# add a data index\n",
        "dataPD['data_index'] = np.arange(n_samples)\n",
        "\n",
        "# mix up your data again\n",
        "dataPD = dataPD.sample(frac=1).reset_index(drop=True)\n",
        "\n",
        "# create a training and testing set\n",
        "train_set = dataPD[0:n_train]\n",
        "val_set = dataPD[n_train:n_train+n_val]\n",
        "test_set = dataPD[n_train+n_val:]\n",
        "\n",
        "val_and_test = dataPD[n_train:]\n",
        "\n",
        "\n",
        "# write out the files for the participants\n",
        "# create and validation+testing that doesn't have the target variable\n",
        "val_and_test = val_and_test.drop(columns='target')\n",
        "val_and_test = val_and_test.sample(frac=1).reset_index(drop=True)\n",
        "val_and_test.to_csv('testing_data_no_target.csv', index=False)\n",
        "\n",
        "# write out the files for the organizers\n",
        "train_set.to_csv('train.csv', index=False)\n",
        "val_set.to_csv('val.csv', index=False)\n",
        "test_set.to_csv('test.csv', index=False)\n",
        "\n",
        "val_and_test.head(15)"
      ],
      "execution_count": 4,
      "outputs": [
        {
          "output_type": "execute_result",
          "data": {
            "text/html": [
              "<div>\n",
              "<style scoped>\n",
              "    .dataframe tbody tr th:only-of-type {\n",
              "        vertical-align: middle;\n",
              "    }\n",
              "\n",
              "    .dataframe tbody tr th {\n",
              "        vertical-align: top;\n",
              "    }\n",
              "\n",
              "    .dataframe thead th {\n",
              "        text-align: right;\n",
              "    }\n",
              "</style>\n",
              "<table border=\"1\" class=\"dataframe\">\n",
              "  <thead>\n",
              "    <tr style=\"text-align: right;\">\n",
              "      <th></th>\n",
              "      <th>x_0</th>\n",
              "      <th>x_1</th>\n",
              "      <th>x_2</th>\n",
              "      <th>x_3</th>\n",
              "      <th>x_4</th>\n",
              "      <th>x_5</th>\n",
              "      <th>x_6</th>\n",
              "      <th>x_7</th>\n",
              "      <th>x_8</th>\n",
              "      <th>x_9</th>\n",
              "      <th>data_index</th>\n",
              "    </tr>\n",
              "  </thead>\n",
              "  <tbody>\n",
              "    <tr>\n",
              "      <th>0</th>\n",
              "      <td>0.299013</td>\n",
              "      <td>0.027344</td>\n",
              "      <td>0.252109</td>\n",
              "      <td>0.798451</td>\n",
              "      <td>0.557161</td>\n",
              "      <td>0.083289</td>\n",
              "      <td>0.105412</td>\n",
              "      <td>0.347075</td>\n",
              "      <td>0.431720</td>\n",
              "      <td>0.797619</td>\n",
              "      <td>354</td>\n",
              "    </tr>\n",
              "    <tr>\n",
              "      <th>1</th>\n",
              "      <td>0.636396</td>\n",
              "      <td>0.993111</td>\n",
              "      <td>0.456410</td>\n",
              "      <td>0.479179</td>\n",
              "      <td>0.966854</td>\n",
              "      <td>0.054925</td>\n",
              "      <td>0.550054</td>\n",
              "      <td>0.921115</td>\n",
              "      <td>0.641687</td>\n",
              "      <td>0.915791</td>\n",
              "      <td>8395</td>\n",
              "    </tr>\n",
              "    <tr>\n",
              "      <th>2</th>\n",
              "      <td>0.723457</td>\n",
              "      <td>0.685873</td>\n",
              "      <td>0.368344</td>\n",
              "      <td>0.766843</td>\n",
              "      <td>0.591899</td>\n",
              "      <td>0.799533</td>\n",
              "      <td>0.985201</td>\n",
              "      <td>0.721537</td>\n",
              "      <td>0.429168</td>\n",
              "      <td>0.852557</td>\n",
              "      <td>8328</td>\n",
              "    </tr>\n",
              "    <tr>\n",
              "      <th>3</th>\n",
              "      <td>0.087915</td>\n",
              "      <td>0.437484</td>\n",
              "      <td>0.570625</td>\n",
              "      <td>0.973843</td>\n",
              "      <td>0.698735</td>\n",
              "      <td>0.596912</td>\n",
              "      <td>0.015346</td>\n",
              "      <td>0.683599</td>\n",
              "      <td>0.259600</td>\n",
              "      <td>0.453181</td>\n",
              "      <td>2754</td>\n",
              "    </tr>\n",
              "    <tr>\n",
              "      <th>4</th>\n",
              "      <td>0.198850</td>\n",
              "      <td>0.396748</td>\n",
              "      <td>0.153671</td>\n",
              "      <td>0.095613</td>\n",
              "      <td>0.165935</td>\n",
              "      <td>0.074371</td>\n",
              "      <td>0.574832</td>\n",
              "      <td>0.637962</td>\n",
              "      <td>0.891388</td>\n",
              "      <td>0.715395</td>\n",
              "      <td>4720</td>\n",
              "    </tr>\n",
              "    <tr>\n",
              "      <th>5</th>\n",
              "      <td>0.209437</td>\n",
              "      <td>0.889281</td>\n",
              "      <td>0.763019</td>\n",
              "      <td>0.093322</td>\n",
              "      <td>0.261384</td>\n",
              "      <td>0.961751</td>\n",
              "      <td>0.969255</td>\n",
              "      <td>0.723312</td>\n",
              "      <td>0.673844</td>\n",
              "      <td>0.361431</td>\n",
              "      <td>6726</td>\n",
              "    </tr>\n",
              "    <tr>\n",
              "      <th>6</th>\n",
              "      <td>0.743068</td>\n",
              "      <td>0.875279</td>\n",
              "      <td>0.913009</td>\n",
              "      <td>0.823144</td>\n",
              "      <td>0.604262</td>\n",
              "      <td>0.064290</td>\n",
              "      <td>0.048665</td>\n",
              "      <td>0.610273</td>\n",
              "      <td>0.463008</td>\n",
              "      <td>0.766185</td>\n",
              "      <td>4179</td>\n",
              "    </tr>\n",
              "    <tr>\n",
              "      <th>7</th>\n",
              "      <td>0.090026</td>\n",
              "      <td>0.420530</td>\n",
              "      <td>0.819524</td>\n",
              "      <td>0.920038</td>\n",
              "      <td>0.671701</td>\n",
              "      <td>0.343569</td>\n",
              "      <td>0.372418</td>\n",
              "      <td>0.115619</td>\n",
              "      <td>0.013829</td>\n",
              "      <td>0.249855</td>\n",
              "      <td>4156</td>\n",
              "    </tr>\n",
              "    <tr>\n",
              "      <th>8</th>\n",
              "      <td>0.102221</td>\n",
              "      <td>0.884774</td>\n",
              "      <td>0.209032</td>\n",
              "      <td>0.369329</td>\n",
              "      <td>0.178251</td>\n",
              "      <td>0.236729</td>\n",
              "      <td>0.968929</td>\n",
              "      <td>0.987217</td>\n",
              "      <td>0.555598</td>\n",
              "      <td>0.501704</td>\n",
              "      <td>1155</td>\n",
              "    </tr>\n",
              "    <tr>\n",
              "      <th>9</th>\n",
              "      <td>0.941592</td>\n",
              "      <td>0.737665</td>\n",
              "      <td>0.222702</td>\n",
              "      <td>0.990150</td>\n",
              "      <td>0.361245</td>\n",
              "      <td>0.351711</td>\n",
              "      <td>0.451682</td>\n",
              "      <td>0.470489</td>\n",
              "      <td>0.355812</td>\n",
              "      <td>0.928494</td>\n",
              "      <td>5986</td>\n",
              "    </tr>\n",
              "    <tr>\n",
              "      <th>10</th>\n",
              "      <td>0.671172</td>\n",
              "      <td>0.698088</td>\n",
              "      <td>0.064855</td>\n",
              "      <td>0.905395</td>\n",
              "      <td>0.399482</td>\n",
              "      <td>0.546931</td>\n",
              "      <td>0.688812</td>\n",
              "      <td>0.793237</td>\n",
              "      <td>0.145747</td>\n",
              "      <td>0.110972</td>\n",
              "      <td>1260</td>\n",
              "    </tr>\n",
              "    <tr>\n",
              "      <th>11</th>\n",
              "      <td>0.244646</td>\n",
              "      <td>0.020563</td>\n",
              "      <td>0.631798</td>\n",
              "      <td>0.120162</td>\n",
              "      <td>0.697545</td>\n",
              "      <td>0.097645</td>\n",
              "      <td>0.581069</td>\n",
              "      <td>0.919734</td>\n",
              "      <td>0.132400</td>\n",
              "      <td>0.008739</td>\n",
              "      <td>5091</td>\n",
              "    </tr>\n",
              "    <tr>\n",
              "      <th>12</th>\n",
              "      <td>0.279882</td>\n",
              "      <td>0.292278</td>\n",
              "      <td>0.728695</td>\n",
              "      <td>0.944851</td>\n",
              "      <td>0.127383</td>\n",
              "      <td>0.569767</td>\n",
              "      <td>0.564432</td>\n",
              "      <td>0.785294</td>\n",
              "      <td>0.171346</td>\n",
              "      <td>0.496320</td>\n",
              "      <td>296</td>\n",
              "    </tr>\n",
              "    <tr>\n",
              "      <th>13</th>\n",
              "      <td>0.423542</td>\n",
              "      <td>0.911356</td>\n",
              "      <td>0.560169</td>\n",
              "      <td>0.165005</td>\n",
              "      <td>0.246413</td>\n",
              "      <td>0.269941</td>\n",
              "      <td>0.863811</td>\n",
              "      <td>0.244141</td>\n",
              "      <td>0.233430</td>\n",
              "      <td>0.264894</td>\n",
              "      <td>8370</td>\n",
              "    </tr>\n",
              "    <tr>\n",
              "      <th>14</th>\n",
              "      <td>0.722977</td>\n",
              "      <td>0.418955</td>\n",
              "      <td>0.032150</td>\n",
              "      <td>0.490266</td>\n",
              "      <td>0.906782</td>\n",
              "      <td>0.212850</td>\n",
              "      <td>0.122873</td>\n",
              "      <td>0.838347</td>\n",
              "      <td>0.348310</td>\n",
              "      <td>0.409214</td>\n",
              "      <td>730</td>\n",
              "    </tr>\n",
              "  </tbody>\n",
              "</table>\n",
              "</div>"
            ],
            "text/plain": [
              "         x_0       x_1       x_2  ...       x_8       x_9  data_index\n",
              "0   0.299013  0.027344  0.252109  ...  0.431720  0.797619         354\n",
              "1   0.636396  0.993111  0.456410  ...  0.641687  0.915791        8395\n",
              "2   0.723457  0.685873  0.368344  ...  0.429168  0.852557        8328\n",
              "3   0.087915  0.437484  0.570625  ...  0.259600  0.453181        2754\n",
              "4   0.198850  0.396748  0.153671  ...  0.891388  0.715395        4720\n",
              "5   0.209437  0.889281  0.763019  ...  0.673844  0.361431        6726\n",
              "6   0.743068  0.875279  0.913009  ...  0.463008  0.766185        4179\n",
              "7   0.090026  0.420530  0.819524  ...  0.013829  0.249855        4156\n",
              "8   0.102221  0.884774  0.209032  ...  0.555598  0.501704        1155\n",
              "9   0.941592  0.737665  0.222702  ...  0.355812  0.928494        5986\n",
              "10  0.671172  0.698088  0.064855  ...  0.145747  0.110972        1260\n",
              "11  0.244646  0.020563  0.631798  ...  0.132400  0.008739        5091\n",
              "12  0.279882  0.292278  0.728695  ...  0.171346  0.496320         296\n",
              "13  0.423542  0.911356  0.560169  ...  0.233430  0.264894        8370\n",
              "14  0.722977  0.418955  0.032150  ...  0.348310  0.409214         730\n",
              "\n",
              "[15 rows x 11 columns]"
            ]
          },
          "metadata": {
            "tags": []
          },
          "execution_count": 4
        }
      ]
    },
    {
      "cell_type": "markdown",
      "metadata": {
        "id": "eP79cEErY51f"
      },
      "source": [
        "# 3. Create a bundle"
      ]
    },
    {
      "cell_type": "code",
      "metadata": {
        "colab": {
          "base_uri": "https://localhost:8080/"
        },
        "id": "c4OBmnEiY5E5",
        "outputId": "773edce5-86fd-4351-f104-8e447dd7da78"
      },
      "source": [
        "# get example bundle structure from github\n",
        "!git clone -l -s https://github.com/ahinoamp/CodaLab_tutorial bundle\n",
        "%cd bundle\n",
        "!ls\n",
        "! rm -r .git\n",
        "%cd ../"
      ],
      "execution_count": 5,
      "outputs": [
        {
          "output_type": "stream",
          "text": [
            "Cloning into 'bundle'...\n",
            "warning: --local is ignored\n",
            "remote: Enumerating objects: 24, done.\u001b[K\n",
            "remote: Counting objects: 100% (24/24), done.\u001b[K\n",
            "remote: Compressing objects: 100% (18/18), done.\u001b[K\n",
            "remote: Total 24 (delta 5), reused 21 (delta 5), pack-reused 0\u001b[K\n",
            "Unpacking objects: 100% (24/24), done.\n",
            "/content/bundle\n",
            "competition.yaml  logo.jpg\t scoring_program_tst\n",
            "data.html\t  overview.html  scoring_program_val\n",
            "evaluation.html   README.md\t terms_and_conditions.html\n",
            "/content\n"
          ],
          "name": "stdout"
        }
      ]
    },
    {
      "cell_type": "code",
      "metadata": {
        "id": "LoBfGw0BX1ok"
      },
      "source": [
        "# make two directories for the reference data\n",
        "!mkdir 'bundle/reference_data_val'\n",
        "!mkdir 'bundle/reference_data_tst'"
      ],
      "execution_count": 6,
      "outputs": []
    },
    {
      "cell_type": "code",
      "metadata": {
        "colab": {
          "base_uri": "https://localhost:8080/"
        },
        "id": "34gumdzVP-qC",
        "outputId": "8ba22ff1-3a89-4ef5-f968-5445311c36a2"
      },
      "source": [
        "# add the reference validation data\n",
        "val_set[['data_index', 'target']].to_csv('/content/bundle/reference_data_val/val_ref.csv', index=False)\n",
        "\n",
        "# add the reference testing data\n",
        "test_set[['data_index', 'target']].to_csv('/content/bundle/reference_data_tst/test_ref.csv', index=False)\n",
        "\n",
        "print('done with adding ref data')"
      ],
      "execution_count": 7,
      "outputs": [
        {
          "output_type": "stream",
          "text": [
            "done with adding ref data\n"
          ],
          "name": "stdout"
        }
      ]
    },
    {
      "cell_type": "markdown",
      "metadata": {
        "id": "lIUoDNB_fxsB"
      },
      "source": [
        "# 4. Zip the bundle"
      ]
    },
    {
      "cell_type": "code",
      "metadata": {
        "colab": {
          "base_uri": "https://localhost:8080/"
        },
        "id": "uwdsTvEvf1Iw",
        "outputId": "514f533c-0dac-4990-8f65-baadcf3f8c29"
      },
      "source": [
        "import zipfile\n",
        "\n",
        "! (cd bundle/reference_data_val/; zip -r ../reference_data_val.zip .)\n",
        "! (cd bundle/reference_data_tst/; zip -r ../reference_data_tst.zip .)\n",
        "! (cd bundle/scoring_program_tst/; zip -r ../scoring_program_tst.zip .)\n",
        "! (cd bundle/scoring_program_val/; zip -r ../scoring_program_val.zip .)\n",
        "! cd bundle && zip -r ../bundle.zip ."
      ],
      "execution_count": 8,
      "outputs": [
        {
          "output_type": "stream",
          "text": [
            "  adding: val_ref.csv (deflated 49%)\n",
            "  adding: test_ref.csv (deflated 49%)\n",
            "  adding: metadata (deflated 18%)\n",
            "  adding: evaluate.py (deflated 58%)\n",
            "  adding: README.md (deflated 45%)\n",
            "  adding: metadata (deflated 18%)\n",
            "  adding: evaluate.py (deflated 58%)\n",
            "  adding: scoring_program_val.zip (stored 0%)\n",
            "  adding: scoring_program_tst/ (stored 0%)\n",
            "  adding: scoring_program_tst/metadata (deflated 18%)\n",
            "  adding: scoring_program_tst/evaluate.py (deflated 58%)\n",
            "  adding: reference_data_val/ (stored 0%)\n",
            "  adding: reference_data_val/val_ref.csv (deflated 49%)\n",
            "  adding: reference_data_val.zip (stored 0%)\n",
            "  adding: README.md (deflated 45%)\n",
            "  adding: overview.html (deflated 46%)\n",
            "  adding: competition.yaml (deflated 60%)\n",
            "  adding: reference_data_tst.zip (stored 0%)\n",
            "  adding: scoring_program_tst.zip (stored 0%)\n",
            "  adding: terms_and_conditions.html (deflated 39%)\n",
            "  adding: evaluation.html (deflated 14%)\n",
            "  adding: reference_data_tst/ (stored 0%)\n",
            "  adding: reference_data_tst/test_ref.csv (deflated 49%)\n",
            "  adding: scoring_program_val/ (stored 0%)\n",
            "  adding: scoring_program_val/README.md (deflated 45%)\n",
            "  adding: scoring_program_val/metadata (deflated 18%)\n",
            "  adding: scoring_program_val/evaluate.py (deflated 58%)\n",
            "  adding: data.html (deflated 8%)\n",
            "  adding: logo.jpg (deflated 0%)\n"
          ],
          "name": "stdout"
        }
      ]
    },
    {
      "cell_type": "markdown",
      "metadata": {
        "id": "P028_5nQ_jlN"
      },
      "source": [
        "#5. Create an example submission"
      ]
    },
    {
      "cell_type": "code",
      "metadata": {
        "id": "0mArGDi__q82"
      },
      "source": [
        "train = pd.read_csv('train.csv')"
      ],
      "execution_count": 9,
      "outputs": []
    },
    {
      "cell_type": "code",
      "metadata": {
        "id": "F7rm3owUWV-C"
      },
      "source": [
        "#train a linear regression model\n",
        "from sklearn.linear_model import LinearRegression\n",
        "reg = LinearRegression().fit(train.drop(columns='target'),\n",
        "                             train['target'].values.reshape(-1, 1))"
      ],
      "execution_count": 10,
      "outputs": []
    },
    {
      "cell_type": "code",
      "metadata": {
        "id": "75qqxZLyAKR4"
      },
      "source": [
        "# predict on training data\n",
        "y_hat = reg.predict(train.drop(columns='target'))"
      ],
      "execution_count": 11,
      "outputs": []
    },
    {
      "cell_type": "code",
      "metadata": {
        "colab": {
          "base_uri": "https://localhost:8080/",
          "height": 295
        },
        "id": "ZbOPSkK8Spl2",
        "outputId": "5c9b934d-d260-4921-cebe-4542386dc61c"
      },
      "source": [
        "fig, ax = plt.subplots(1, 1, figsize=(4,4))\n",
        "train['predict'] = y_hat\n",
        "sns.scatterplot(data=train, x=\"predict\", y=\"target\", ax=ax)\n",
        "a = ax.set_title('prediction vs. truth')"
      ],
      "execution_count": 12,
      "outputs": [
        {
          "output_type": "display_data",
          "data": {
            "image/png": "[encoded data removed]",
            "text/plain": [
              "<Figure size 288x288 with 1 Axes>"
            ]
          },
          "metadata": {
            "tags": [],
            "needs_background": "light"
          }
        }
      ]
    },
    {
      "cell_type": "code",
      "metadata": {
        "colab": {
          "base_uri": "https://localhost:8080/",
          "height": 206
        },
        "id": "W39trSOSBfQ6",
        "outputId": "ba0a4f40-5d4f-4d0e-c2d6-2917aae18a60"
      },
      "source": [
        "# predict on testing data\n",
        "test_data = pd.read_csv('testing_data_no_target.csv')\n",
        "test_data.head()"
      ],
      "execution_count": 13,
      "outputs": [
        {
          "output_type": "execute_result",
          "data": {
            "text/html": [
              "<div>\n",
              "<style scoped>\n",
              "    .dataframe tbody tr th:only-of-type {\n",
              "        vertical-align: middle;\n",
              "    }\n",
              "\n",
              "    .dataframe tbody tr th {\n",
              "        vertical-align: top;\n",
              "    }\n",
              "\n",
              "    .dataframe thead th {\n",
              "        text-align: right;\n",
              "    }\n",
              "</style>\n",
              "<table border=\"1\" class=\"dataframe\">\n",
              "  <thead>\n",
              "    <tr style=\"text-align: right;\">\n",
              "      <th></th>\n",
              "      <th>x_0</th>\n",
              "      <th>x_1</th>\n",
              "      <th>x_2</th>\n",
              "      <th>x_3</th>\n",
              "      <th>x_4</th>\n",
              "      <th>x_5</th>\n",
              "      <th>x_6</th>\n",
              "      <th>x_7</th>\n",
              "      <th>x_8</th>\n",
              "      <th>x_9</th>\n",
              "      <th>data_index</th>\n",
              "    </tr>\n",
              "  </thead>\n",
              "  <tbody>\n",
              "    <tr>\n",
              "      <th>0</th>\n",
              "      <td>0.299013</td>\n",
              "      <td>0.027344</td>\n",
              "      <td>0.252109</td>\n",
              "      <td>0.798451</td>\n",
              "      <td>0.557161</td>\n",
              "      <td>0.083289</td>\n",
              "      <td>0.105412</td>\n",
              "      <td>0.347075</td>\n",
              "      <td>0.431720</td>\n",
              "      <td>0.797619</td>\n",
              "      <td>354</td>\n",
              "    </tr>\n",
              "    <tr>\n",
              "      <th>1</th>\n",
              "      <td>0.636396</td>\n",
              "      <td>0.993111</td>\n",
              "      <td>0.456410</td>\n",
              "      <td>0.479179</td>\n",
              "      <td>0.966854</td>\n",
              "      <td>0.054925</td>\n",
              "      <td>0.550054</td>\n",
              "      <td>0.921115</td>\n",
              "      <td>0.641687</td>\n",
              "      <td>0.915791</td>\n",
              "      <td>8395</td>\n",
              "    </tr>\n",
              "    <tr>\n",
              "      <th>2</th>\n",
              "      <td>0.723457</td>\n",
              "      <td>0.685873</td>\n",
              "      <td>0.368344</td>\n",
              "      <td>0.766843</td>\n",
              "      <td>0.591899</td>\n",
              "      <td>0.799533</td>\n",
              "      <td>0.985201</td>\n",
              "      <td>0.721537</td>\n",
              "      <td>0.429168</td>\n",
              "      <td>0.852557</td>\n",
              "      <td>8328</td>\n",
              "    </tr>\n",
              "    <tr>\n",
              "      <th>3</th>\n",
              "      <td>0.087915</td>\n",
              "      <td>0.437484</td>\n",
              "      <td>0.570625</td>\n",
              "      <td>0.973843</td>\n",
              "      <td>0.698735</td>\n",
              "      <td>0.596912</td>\n",
              "      <td>0.015346</td>\n",
              "      <td>0.683599</td>\n",
              "      <td>0.259600</td>\n",
              "      <td>0.453181</td>\n",
              "      <td>2754</td>\n",
              "    </tr>\n",
              "    <tr>\n",
              "      <th>4</th>\n",
              "      <td>0.198850</td>\n",
              "      <td>0.396748</td>\n",
              "      <td>0.153671</td>\n",
              "      <td>0.095613</td>\n",
              "      <td>0.165935</td>\n",
              "      <td>0.074371</td>\n",
              "      <td>0.574832</td>\n",
              "      <td>0.637962</td>\n",
              "      <td>0.891388</td>\n",
              "      <td>0.715395</td>\n",
              "      <td>4720</td>\n",
              "    </tr>\n",
              "  </tbody>\n",
              "</table>\n",
              "</div>"
            ],
            "text/plain": [
              "        x_0       x_1       x_2  ...       x_8       x_9  data_index\n",
              "0  0.299013  0.027344  0.252109  ...  0.431720  0.797619         354\n",
              "1  0.636396  0.993111  0.456410  ...  0.641687  0.915791        8395\n",
              "2  0.723457  0.685873  0.368344  ...  0.429168  0.852557        8328\n",
              "3  0.087915  0.437484  0.570625  ...  0.259600  0.453181        2754\n",
              "4  0.198850  0.396748  0.153671  ...  0.891388  0.715395        4720\n",
              "\n",
              "[5 rows x 11 columns]"
            ]
          },
          "metadata": {
            "tags": []
          },
          "execution_count": 13
        }
      ]
    },
    {
      "cell_type": "code",
      "metadata": {
        "id": "fdwAFKh8UGqB"
      },
      "source": [
        "# make a prediction using the trained model\n",
        "prediction = reg.predict(test_data.values)"
      ],
      "execution_count": 14,
      "outputs": []
    },
    {
      "cell_type": "code",
      "metadata": {
        "id": "Y9JpGsPZW8jU"
      },
      "source": [
        "# write the prediction to a zip file\n",
        "test_data['target']=prediction\n",
        "test_data[['data_index','target']].to_csv('predictions.csv')\n",
        "zipfile.ZipFile('predictions.zip', mode='w').write(\"predictions.csv\")"
      ],
      "execution_count": 16,
      "outputs": []
    },
    {
      "cell_type": "markdown",
      "metadata": {
        "id": "t7ABjK814FPx"
      },
      "source": [
        "# you can also test the logic of the scoring mechanism here"
      ]
    },
    {
      "cell_type": "code",
      "metadata": {
        "id": "uCX1rknOCPJ5"
      },
      "source": [
        "truth = pd.read_csv(\"val.csv\")\n",
        "pred = pd.read_csv(\"predictions.csv\")\n",
        "merged = truth.merge(pred, on='data_index', suffixes=('_true', '_pred'), how='left')\n",
        "\n",
        "result = np.mean(np.abs(merged['target_true'].values-merged['target_pred'].values))\n",
        "\n",
        "if(np.isnan(result)):\n",
        "    result = 404\n"
      ],
      "execution_count": 17,
      "outputs": []
    },
    {
      "cell_type": "code",
      "metadata": {
        "colab": {
          "base_uri": "https://localhost:8080/"
        },
        "id": "PDw-BMcgEAjI",
        "outputId": "42121a49-f8bd-45c0-9e75-9cb4617ce730"
      },
      "source": [
        "result"
      ],
      "execution_count": 18,
      "outputs": [
        {
          "output_type": "execute_result",
          "data": {
            "text/plain": [
              "0.07885198824796887"
            ]
          },
          "metadata": {
            "tags": []
          },
          "execution_count": 18
        }
      ]
    }
  ]
}